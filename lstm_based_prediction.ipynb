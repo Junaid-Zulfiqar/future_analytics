{
  "cells": [
    {
      "cell_type": "markdown",
      "metadata": {
        "id": "T4s1yR11dTbm"
      },
      "source": [
        "### Forecasting Using Stacked LSTM"
      ]
    },
    {
      "cell_type": "code",
      "execution_count": null,
      "metadata": {
        "id": "1O2XUJqYdTb8"
      },
      "outputs": [],
      "source": [
        "import pandas as pd\n",
        "import numpy as np\n",
        "from sklearn.preprocessing import MinMaxScaler\n",
        "### Create the Stacked LSTM model\n",
        "from tensorflow.keras.models import Sequential\n",
        "from tensorflow.keras.layers import Dense\n",
        "from tensorflow.keras.layers import LSTM"
      ]
    },
    {
      "cell_type": "code",
      "source": [
        "# Python\n",
        "df = pd.read_csv('invoices_im_csv.csv')\n",
        "df.head()"
      ],
      "metadata": {
        "colab": {
          "base_uri": "https://localhost:8080/",
          "height": 473
        },
        "id": "SezjWn_QeNdj",
        "outputId": "7f612fac-870d-4cd4-a333-fef5799e5f8d"
      },
      "execution_count": null,
      "outputs": [
        {
          "output_type": "execute_result",
          "data": {
            "text/html": [
              "\n",
              "  <div id=\"df-81bb2046-509d-4340-a7ed-5c2f4bc30ce1\">\n",
              "    <div class=\"colab-df-container\">\n",
              "      <div>\n",
              "<style scoped>\n",
              "    .dataframe tbody tr th:only-of-type {\n",
              "        vertical-align: middle;\n",
              "    }\n",
              "\n",
              "    .dataframe tbody tr th {\n",
              "        vertical-align: top;\n",
              "    }\n",
              "\n",
              "    .dataframe thead th {\n",
              "        text-align: right;\n",
              "    }\n",
              "</style>\n",
              "<table border=\"1\" class=\"dataframe\">\n",
              "  <thead>\n",
              "    <tr style=\"text-align: right;\">\n",
              "      <th></th>\n",
              "      <th>_id</th>\n",
              "      <th>LC_currency.Symbol</th>\n",
              "      <th>LC_currency.Code</th>\n",
              "      <th>LC_currency._id</th>\n",
              "      <th>FC_currency.Symbol</th>\n",
              "      <th>FC_currency.Code</th>\n",
              "      <th>FC_currency._id</th>\n",
              "      <th>trackingStatus.received.comment</th>\n",
              "      <th>trackingStatus.received.date</th>\n",
              "      <th>trackingStatus.received.status</th>\n",
              "      <th>...</th>\n",
              "      <th>description</th>\n",
              "      <th>invoicePath</th>\n",
              "      <th>version</th>\n",
              "      <th>__v</th>\n",
              "      <th>reviewStatus</th>\n",
              "      <th>reviewed</th>\n",
              "      <th>workflowId</th>\n",
              "      <th>approveStatus</th>\n",
              "      <th>approved</th>\n",
              "      <th>scheduledAmount</th>\n",
              "    </tr>\n",
              "  </thead>\n",
              "  <tbody>\n",
              "    <tr>\n",
              "      <th>0</th>\n",
              "      <td>61278a6db52ecd84cfde68c7</td>\n",
              "      <td>$</td>\n",
              "      <td>USD</td>\n",
              "      <td>607e9226ab2ec8820dad0226</td>\n",
              "      <td>$</td>\n",
              "      <td>USD</td>\n",
              "      <td>607e9226ab2ec8820dad0226</td>\n",
              "      <td>Invoice Created</td>\n",
              "      <td>2021-08-26T12:34:53.000Z</td>\n",
              "      <td>completed</td>\n",
              "      <td>...</td>\n",
              "      <td>false</td>\n",
              "      <td>Tenants//927e3c5a-8ac5-4716-957c-25ee9bb39d54/...</td>\n",
              "      <td>1</td>\n",
              "      <td>0</td>\n",
              "      <td>reviewed</td>\n",
              "      <td>2021-08-26T12:38:14.000Z</td>\n",
              "      <td>60ed3fc2360fcb05fcfd294b</td>\n",
              "      <td>approved</td>\n",
              "      <td>2021-08-26T12:38:57.000Z</td>\n",
              "      <td>7.0</td>\n",
              "    </tr>\n",
              "    <tr>\n",
              "      <th>1</th>\n",
              "      <td>61278a89b52ecd1e55de68d0</td>\n",
              "      <td>$</td>\n",
              "      <td>USD</td>\n",
              "      <td>607e9226ab2ec8820dad0226</td>\n",
              "      <td>$</td>\n",
              "      <td>USD</td>\n",
              "      <td>607e9226ab2ec8820dad0226</td>\n",
              "      <td>Invoice Created</td>\n",
              "      <td>2021-08-26T12:35:21.000Z</td>\n",
              "      <td>completed</td>\n",
              "      <td>...</td>\n",
              "      <td>false</td>\n",
              "      <td>Tenants//927e3c5a-8ac5-4716-957c-25ee9bb39d54/...</td>\n",
              "      <td>1</td>\n",
              "      <td>0</td>\n",
              "      <td>reviewed</td>\n",
              "      <td>2021-08-26T12:38:19.000Z</td>\n",
              "      <td>60ed3fc2360fcb05fcfd294b</td>\n",
              "      <td>approved</td>\n",
              "      <td>2021-08-26T12:39:06.000Z</td>\n",
              "      <td>NaN</td>\n",
              "    </tr>\n",
              "    <tr>\n",
              "      <th>2</th>\n",
              "      <td>61278ab0b52ecdb885de68ef</td>\n",
              "      <td>$</td>\n",
              "      <td>USD</td>\n",
              "      <td>607e9226ab2ec8820dad0226</td>\n",
              "      <td>$</td>\n",
              "      <td>USD</td>\n",
              "      <td>607e9226ab2ec8820dad0226</td>\n",
              "      <td>Invoice Created</td>\n",
              "      <td>2021-08-26T12:36:00.000Z</td>\n",
              "      <td>completed</td>\n",
              "      <td>...</td>\n",
              "      <td>false</td>\n",
              "      <td>Tenants//927e3c5a-8ac5-4716-957c-25ee9bb39d54/...</td>\n",
              "      <td>1</td>\n",
              "      <td>0</td>\n",
              "      <td>reviewed</td>\n",
              "      <td>2021-08-26T12:38:24.000Z</td>\n",
              "      <td>60ed3fc2360fcb05fcfd294b</td>\n",
              "      <td>approved</td>\n",
              "      <td>2021-08-26T12:39:15.000Z</td>\n",
              "      <td>NaN</td>\n",
              "    </tr>\n",
              "    <tr>\n",
              "      <th>3</th>\n",
              "      <td>61278ad0b52ecd6b1bde68f9</td>\n",
              "      <td>$</td>\n",
              "      <td>USD</td>\n",
              "      <td>607e9226ab2ec8820dad0226</td>\n",
              "      <td>$</td>\n",
              "      <td>USD</td>\n",
              "      <td>607e9226ab2ec8820dad0226</td>\n",
              "      <td>Invoice Created</td>\n",
              "      <td>2021-08-26T12:36:32.000Z</td>\n",
              "      <td>completed</td>\n",
              "      <td>...</td>\n",
              "      <td>false</td>\n",
              "      <td>Tenants//927e3c5a-8ac5-4716-957c-25ee9bb39d54/...</td>\n",
              "      <td>1</td>\n",
              "      <td>0</td>\n",
              "      <td>reviewed</td>\n",
              "      <td>2021-08-26T12:38:28.000Z</td>\n",
              "      <td>60ed3fc2360fcb05fcfd294b</td>\n",
              "      <td>approved</td>\n",
              "      <td>2021-08-26T12:39:24.000Z</td>\n",
              "      <td>NaN</td>\n",
              "    </tr>\n",
              "    <tr>\n",
              "      <th>4</th>\n",
              "      <td>61278ae8b52ecdbab8de6903</td>\n",
              "      <td>$</td>\n",
              "      <td>USD</td>\n",
              "      <td>607e9226ab2ec8820dad0226</td>\n",
              "      <td>$</td>\n",
              "      <td>USD</td>\n",
              "      <td>607e9226ab2ec8820dad0226</td>\n",
              "      <td>Invoice Created</td>\n",
              "      <td>2021-08-26T12:36:56.000Z</td>\n",
              "      <td>completed</td>\n",
              "      <td>...</td>\n",
              "      <td>false</td>\n",
              "      <td>Tenants//927e3c5a-8ac5-4716-957c-25ee9bb39d54/...</td>\n",
              "      <td>1</td>\n",
              "      <td>0</td>\n",
              "      <td>reviewed</td>\n",
              "      <td>2021-08-26T12:38:32.000Z</td>\n",
              "      <td>60ed3fc2360fcb05fcfd294b</td>\n",
              "      <td>approved</td>\n",
              "      <td>2021-08-26T12:39:33.000Z</td>\n",
              "      <td>NaN</td>\n",
              "    </tr>\n",
              "  </tbody>\n",
              "</table>\n",
              "<p>5 rows × 83 columns</p>\n",
              "</div>\n",
              "      <button class=\"colab-df-convert\" onclick=\"convertToInteractive('df-81bb2046-509d-4340-a7ed-5c2f4bc30ce1')\"\n",
              "              title=\"Convert this dataframe to an interactive table.\"\n",
              "              style=\"display:none;\">\n",
              "        \n",
              "  <svg xmlns=\"http://www.w3.org/2000/svg\" height=\"24px\"viewBox=\"0 0 24 24\"\n",
              "       width=\"24px\">\n",
              "    <path d=\"M0 0h24v24H0V0z\" fill=\"none\"/>\n",
              "    <path d=\"M18.56 5.44l.94 2.06.94-2.06 2.06-.94-2.06-.94-.94-2.06-.94 2.06-2.06.94zm-11 1L8.5 8.5l.94-2.06 2.06-.94-2.06-.94L8.5 2.5l-.94 2.06-2.06.94zm10 10l.94 2.06.94-2.06 2.06-.94-2.06-.94-.94-2.06-.94 2.06-2.06.94z\"/><path d=\"M17.41 7.96l-1.37-1.37c-.4-.4-.92-.59-1.43-.59-.52 0-1.04.2-1.43.59L10.3 9.45l-7.72 7.72c-.78.78-.78 2.05 0 2.83L4 21.41c.39.39.9.59 1.41.59.51 0 1.02-.2 1.41-.59l7.78-7.78 2.81-2.81c.8-.78.8-2.07 0-2.86zM5.41 20L4 18.59l7.72-7.72 1.47 1.35L5.41 20z\"/>\n",
              "  </svg>\n",
              "      </button>\n",
              "      \n",
              "  <style>\n",
              "    .colab-df-container {\n",
              "      display:flex;\n",
              "      flex-wrap:wrap;\n",
              "      gap: 12px;\n",
              "    }\n",
              "\n",
              "    .colab-df-convert {\n",
              "      background-color: #E8F0FE;\n",
              "      border: none;\n",
              "      border-radius: 50%;\n",
              "      cursor: pointer;\n",
              "      display: none;\n",
              "      fill: #1967D2;\n",
              "      height: 32px;\n",
              "      padding: 0 0 0 0;\n",
              "      width: 32px;\n",
              "    }\n",
              "\n",
              "    .colab-df-convert:hover {\n",
              "      background-color: #E2EBFA;\n",
              "      box-shadow: 0px 1px 2px rgba(60, 64, 67, 0.3), 0px 1px 3px 1px rgba(60, 64, 67, 0.15);\n",
              "      fill: #174EA6;\n",
              "    }\n",
              "\n",
              "    [theme=dark] .colab-df-convert {\n",
              "      background-color: #3B4455;\n",
              "      fill: #D2E3FC;\n",
              "    }\n",
              "\n",
              "    [theme=dark] .colab-df-convert:hover {\n",
              "      background-color: #434B5C;\n",
              "      box-shadow: 0px 1px 3px 1px rgba(0, 0, 0, 0.15);\n",
              "      filter: drop-shadow(0px 1px 2px rgba(0, 0, 0, 0.3));\n",
              "      fill: #FFFFFF;\n",
              "    }\n",
              "  </style>\n",
              "\n",
              "      <script>\n",
              "        const buttonEl =\n",
              "          document.querySelector('#df-81bb2046-509d-4340-a7ed-5c2f4bc30ce1 button.colab-df-convert');\n",
              "        buttonEl.style.display =\n",
              "          google.colab.kernel.accessAllowed ? 'block' : 'none';\n",
              "\n",
              "        async function convertToInteractive(key) {\n",
              "          const element = document.querySelector('#df-81bb2046-509d-4340-a7ed-5c2f4bc30ce1');\n",
              "          const dataTable =\n",
              "            await google.colab.kernel.invokeFunction('convertToInteractive',\n",
              "                                                     [key], {});\n",
              "          if (!dataTable) return;\n",
              "\n",
              "          const docLinkHtml = 'Like what you see? Visit the ' +\n",
              "            '<a target=\"_blank\" href=https://colab.research.google.com/notebooks/data_table.ipynb>data table notebook</a>'\n",
              "            + ' to learn more about interactive tables.';\n",
              "          element.innerHTML = '';\n",
              "          dataTable['output_type'] = 'display_data';\n",
              "          await google.colab.output.renderOutput(dataTable, element);\n",
              "          const docLink = document.createElement('div');\n",
              "          docLink.innerHTML = docLinkHtml;\n",
              "          element.appendChild(docLink);\n",
              "        }\n",
              "      </script>\n",
              "    </div>\n",
              "  </div>\n",
              "  "
            ],
            "text/plain": [
              "                        _id LC_currency.Symbol LC_currency.Code  \\\n",
              "0  61278a6db52ecd84cfde68c7                  $              USD   \n",
              "1  61278a89b52ecd1e55de68d0                  $              USD   \n",
              "2  61278ab0b52ecdb885de68ef                  $              USD   \n",
              "3  61278ad0b52ecd6b1bde68f9                  $              USD   \n",
              "4  61278ae8b52ecdbab8de6903                  $              USD   \n",
              "\n",
              "            LC_currency._id FC_currency.Symbol FC_currency.Code  \\\n",
              "0  607e9226ab2ec8820dad0226                  $              USD   \n",
              "1  607e9226ab2ec8820dad0226                  $              USD   \n",
              "2  607e9226ab2ec8820dad0226                  $              USD   \n",
              "3  607e9226ab2ec8820dad0226                  $              USD   \n",
              "4  607e9226ab2ec8820dad0226                  $              USD   \n",
              "\n",
              "            FC_currency._id trackingStatus.received.comment  \\\n",
              "0  607e9226ab2ec8820dad0226                 Invoice Created   \n",
              "1  607e9226ab2ec8820dad0226                 Invoice Created   \n",
              "2  607e9226ab2ec8820dad0226                 Invoice Created   \n",
              "3  607e9226ab2ec8820dad0226                 Invoice Created   \n",
              "4  607e9226ab2ec8820dad0226                 Invoice Created   \n",
              "\n",
              "  trackingStatus.received.date trackingStatus.received.status  ...  \\\n",
              "0     2021-08-26T12:34:53.000Z                      completed  ...   \n",
              "1     2021-08-26T12:35:21.000Z                      completed  ...   \n",
              "2     2021-08-26T12:36:00.000Z                      completed  ...   \n",
              "3     2021-08-26T12:36:32.000Z                      completed  ...   \n",
              "4     2021-08-26T12:36:56.000Z                      completed  ...   \n",
              "\n",
              "  description                                        invoicePath version __v  \\\n",
              "0       false  Tenants//927e3c5a-8ac5-4716-957c-25ee9bb39d54/...       1   0   \n",
              "1       false  Tenants//927e3c5a-8ac5-4716-957c-25ee9bb39d54/...       1   0   \n",
              "2       false  Tenants//927e3c5a-8ac5-4716-957c-25ee9bb39d54/...       1   0   \n",
              "3       false  Tenants//927e3c5a-8ac5-4716-957c-25ee9bb39d54/...       1   0   \n",
              "4       false  Tenants//927e3c5a-8ac5-4716-957c-25ee9bb39d54/...       1   0   \n",
              "\n",
              "  reviewStatus                  reviewed                workflowId  \\\n",
              "0     reviewed  2021-08-26T12:38:14.000Z  60ed3fc2360fcb05fcfd294b   \n",
              "1     reviewed  2021-08-26T12:38:19.000Z  60ed3fc2360fcb05fcfd294b   \n",
              "2     reviewed  2021-08-26T12:38:24.000Z  60ed3fc2360fcb05fcfd294b   \n",
              "3     reviewed  2021-08-26T12:38:28.000Z  60ed3fc2360fcb05fcfd294b   \n",
              "4     reviewed  2021-08-26T12:38:32.000Z  60ed3fc2360fcb05fcfd294b   \n",
              "\n",
              "  approveStatus                  approved scheduledAmount  \n",
              "0      approved  2021-08-26T12:38:57.000Z             7.0  \n",
              "1      approved  2021-08-26T12:39:06.000Z             NaN  \n",
              "2      approved  2021-08-26T12:39:15.000Z             NaN  \n",
              "3      approved  2021-08-26T12:39:24.000Z             NaN  \n",
              "4      approved  2021-08-26T12:39:33.000Z             NaN  \n",
              "\n",
              "[5 rows x 83 columns]"
            ]
          },
          "metadata": {},
          "execution_count": 3
        }
      ]
    },
    {
      "cell_type": "code",
      "source": [
        "df = df.filter(['vendorName','createdDate','netAmt'])\n",
        "df"
      ],
      "metadata": {
        "colab": {
          "base_uri": "https://localhost:8080/",
          "height": 1000
        },
        "id": "T0SzvYK0eVyI",
        "outputId": "5c4a0d06-89b2-4cc4-88ba-abd9b97d61fd"
      },
      "execution_count": null,
      "outputs": [
        {
          "output_type": "execute_result",
          "data": {
            "text/html": [
              "\n",
              "  <div id=\"df-6c6178a3-0686-4eaf-9e1d-d72d0b7b2a01\">\n",
              "    <div class=\"colab-df-container\">\n",
              "      <div>\n",
              "<style scoped>\n",
              "    .dataframe tbody tr th:only-of-type {\n",
              "        vertical-align: middle;\n",
              "    }\n",
              "\n",
              "    .dataframe tbody tr th {\n",
              "        vertical-align: top;\n",
              "    }\n",
              "\n",
              "    .dataframe thead th {\n",
              "        text-align: right;\n",
              "    }\n",
              "</style>\n",
              "<table border=\"1\" class=\"dataframe\">\n",
              "  <thead>\n",
              "    <tr style=\"text-align: right;\">\n",
              "      <th></th>\n",
              "      <th>vendorName</th>\n",
              "      <th>createdDate</th>\n",
              "      <th>netAmt</th>\n",
              "    </tr>\n",
              "  </thead>\n",
              "  <tbody>\n",
              "    <tr>\n",
              "      <th>0</th>\n",
              "      <td>SALIC VENDOR</td>\n",
              "      <td>2021-02-26T12:34:53.000Z</td>\n",
              "      <td>10.00</td>\n",
              "    </tr>\n",
              "    <tr>\n",
              "      <th>1</th>\n",
              "      <td>SALIC VENDOR</td>\n",
              "      <td>2021-03-26T12:35:21.000Z</td>\n",
              "      <td>250.00</td>\n",
              "    </tr>\n",
              "    <tr>\n",
              "      <th>2</th>\n",
              "      <td>SALIC VENDOR</td>\n",
              "      <td>2021-08-26T12:36:00.000Z</td>\n",
              "      <td>400.00</td>\n",
              "    </tr>\n",
              "    <tr>\n",
              "      <th>3</th>\n",
              "      <td>SALIC VENDOR</td>\n",
              "      <td>2021-08-26T12:36:32.000Z</td>\n",
              "      <td>200.00</td>\n",
              "    </tr>\n",
              "    <tr>\n",
              "      <th>4</th>\n",
              "      <td>SALIC VENDOR</td>\n",
              "      <td>2021-05-26T12:36:56.000Z</td>\n",
              "      <td>100.00</td>\n",
              "    </tr>\n",
              "    <tr>\n",
              "      <th>5</th>\n",
              "      <td>SALIC VENDOR</td>\n",
              "      <td>2021-08-31T09:38:39.000Z</td>\n",
              "      <td>200.00</td>\n",
              "    </tr>\n",
              "    <tr>\n",
              "      <th>6</th>\n",
              "      <td>SALIC VENDOR</td>\n",
              "      <td>2021-08-31T11:42:55.000Z</td>\n",
              "      <td>300.00</td>\n",
              "    </tr>\n",
              "    <tr>\n",
              "      <th>7</th>\n",
              "      <td>SALIC VENDOR</td>\n",
              "      <td>2021-09-01T08:19:42.000Z</td>\n",
              "      <td>3663.00</td>\n",
              "    </tr>\n",
              "    <tr>\n",
              "      <th>8</th>\n",
              "      <td>Ahsan Zulfiqar</td>\n",
              "      <td>2021-09-10T11:03:53.000Z</td>\n",
              "      <td>8500.00</td>\n",
              "    </tr>\n",
              "    <tr>\n",
              "      <th>9</th>\n",
              "      <td>Ahsan Zulfiqar</td>\n",
              "      <td>2021-09-10T11:04:31.000Z</td>\n",
              "      <td>8500.00</td>\n",
              "    </tr>\n",
              "    <tr>\n",
              "      <th>10</th>\n",
              "      <td>Ahsan Zulfiqar</td>\n",
              "      <td>2021-09-10T11:07:55.000Z</td>\n",
              "      <td>2000.00</td>\n",
              "    </tr>\n",
              "    <tr>\n",
              "      <th>11</th>\n",
              "      <td>Ahsan Zulfiqar</td>\n",
              "      <td>2021-09-14T12:16:41.000Z</td>\n",
              "      <td>6000.00</td>\n",
              "    </tr>\n",
              "    <tr>\n",
              "      <th>12</th>\n",
              "      <td>Ahsan Zulfiqar</td>\n",
              "      <td>2021-09-15T10:18:16.000Z</td>\n",
              "      <td>63.70</td>\n",
              "    </tr>\n",
              "    <tr>\n",
              "      <th>13</th>\n",
              "      <td>SALIC VENDOR</td>\n",
              "      <td>2021-09-20T08:01:00.000Z</td>\n",
              "      <td>262500.00</td>\n",
              "    </tr>\n",
              "    <tr>\n",
              "      <th>14</th>\n",
              "      <td>SALIC VENDOR</td>\n",
              "      <td>2021-09-20T08:12:52.000Z</td>\n",
              "      <td>275.00</td>\n",
              "    </tr>\n",
              "    <tr>\n",
              "      <th>15</th>\n",
              "      <td>SALIC VENDOR</td>\n",
              "      <td>2021-09-21T13:01:38.000Z</td>\n",
              "      <td>10.00</td>\n",
              "    </tr>\n",
              "    <tr>\n",
              "      <th>16</th>\n",
              "      <td>Ahsan Zulfiqar</td>\n",
              "      <td>2021-09-24T07:39:07.000Z</td>\n",
              "      <td>552.00</td>\n",
              "    </tr>\n",
              "    <tr>\n",
              "      <th>17</th>\n",
              "      <td>SALIC VENDOR</td>\n",
              "      <td>2021-10-04T09:58:18.000Z</td>\n",
              "      <td>100.00</td>\n",
              "    </tr>\n",
              "    <tr>\n",
              "      <th>18</th>\n",
              "      <td>SALIC VENDOR</td>\n",
              "      <td>2021-10-04T10:17:07.000Z</td>\n",
              "      <td>34.20</td>\n",
              "    </tr>\n",
              "    <tr>\n",
              "      <th>19</th>\n",
              "      <td>Ahsan</td>\n",
              "      <td>2021-10-04T11:50:52.000Z</td>\n",
              "      <td>23520.00</td>\n",
              "    </tr>\n",
              "    <tr>\n",
              "      <th>20</th>\n",
              "      <td>SALIC VENDOR</td>\n",
              "      <td>2021-10-04T14:07:18.000Z</td>\n",
              "      <td>275.00</td>\n",
              "    </tr>\n",
              "    <tr>\n",
              "      <th>21</th>\n",
              "      <td>SALIC VENDOR</td>\n",
              "      <td>2021-10-04T14:24:16.000Z</td>\n",
              "      <td>275.00</td>\n",
              "    </tr>\n",
              "    <tr>\n",
              "      <th>22</th>\n",
              "      <td>SALIC VENDOR</td>\n",
              "      <td>2021-10-04T14:26:53.000Z</td>\n",
              "      <td>275.00</td>\n",
              "    </tr>\n",
              "    <tr>\n",
              "      <th>23</th>\n",
              "      <td>SALIC VENDOR</td>\n",
              "      <td>2021-10-04T14:29:41.000Z</td>\n",
              "      <td>275.00</td>\n",
              "    </tr>\n",
              "    <tr>\n",
              "      <th>24</th>\n",
              "      <td>SALIC VENDOR</td>\n",
              "      <td>2021-10-14T12:11:01.000Z</td>\n",
              "      <td>100.00</td>\n",
              "    </tr>\n",
              "    <tr>\n",
              "      <th>25</th>\n",
              "      <td>SALIC VENDOR</td>\n",
              "      <td>2021-10-27T10:59:02.000Z</td>\n",
              "      <td>8712.00</td>\n",
              "    </tr>\n",
              "    <tr>\n",
              "      <th>26</th>\n",
              "      <td>SALIC VENDOR</td>\n",
              "      <td>2021-10-27T11:17:54.000Z</td>\n",
              "      <td>100.00</td>\n",
              "    </tr>\n",
              "    <tr>\n",
              "      <th>27</th>\n",
              "      <td>SALIC VENDOR</td>\n",
              "      <td>2021-11-05T06:26:43.000Z</td>\n",
              "      <td>250000.00</td>\n",
              "    </tr>\n",
              "    <tr>\n",
              "      <th>28</th>\n",
              "      <td>SALIC VENDOR</td>\n",
              "      <td>2021-11-06T18:45:29.000Z</td>\n",
              "      <td>6180.48</td>\n",
              "    </tr>\n",
              "    <tr>\n",
              "      <th>29</th>\n",
              "      <td>SALIC VENDOR</td>\n",
              "      <td>2021-11-09T08:05:55.000Z</td>\n",
              "      <td>26.25</td>\n",
              "    </tr>\n",
              "    <tr>\n",
              "      <th>30</th>\n",
              "      <td>SALIC VENDOR</td>\n",
              "      <td>2021-11-10T09:24:51.000Z</td>\n",
              "      <td>250000.00</td>\n",
              "    </tr>\n",
              "    <tr>\n",
              "      <th>31</th>\n",
              "      <td>Ahsan Zulfiqar</td>\n",
              "      <td>2021-11-11T07:22:29.000Z</td>\n",
              "      <td>1000.00</td>\n",
              "    </tr>\n",
              "    <tr>\n",
              "      <th>32</th>\n",
              "      <td>MARK</td>\n",
              "      <td>2021-11-11T07:26:22.000Z</td>\n",
              "      <td>300.00</td>\n",
              "    </tr>\n",
              "    <tr>\n",
              "      <th>33</th>\n",
              "      <td>Ahsan Zulfiqar</td>\n",
              "      <td>2021-11-11T07:31:07.000Z</td>\n",
              "      <td>1000.00</td>\n",
              "    </tr>\n",
              "    <tr>\n",
              "      <th>34</th>\n",
              "      <td>Ahsan Zulfiqar</td>\n",
              "      <td>2021-11-11T07:58:54.000Z</td>\n",
              "      <td>6000.00</td>\n",
              "    </tr>\n",
              "    <tr>\n",
              "      <th>35</th>\n",
              "      <td>SALIC VENDOR</td>\n",
              "      <td>2021-11-15T10:53:16.000Z</td>\n",
              "      <td>700.00</td>\n",
              "    </tr>\n",
              "    <tr>\n",
              "      <th>36</th>\n",
              "      <td>VENDONE</td>\n",
              "      <td>2021-12-03T11:47:41.000Z</td>\n",
              "      <td>40.00</td>\n",
              "    </tr>\n",
              "    <tr>\n",
              "      <th>37</th>\n",
              "      <td>IMS</td>\n",
              "      <td>2021-12-28T13:01:40.000Z</td>\n",
              "      <td>96898.10</td>\n",
              "    </tr>\n",
              "    <tr>\n",
              "      <th>38</th>\n",
              "      <td>IMS</td>\n",
              "      <td>2021-12-28T18:48:50.000Z</td>\n",
              "      <td>265995.25</td>\n",
              "    </tr>\n",
              "    <tr>\n",
              "      <th>39</th>\n",
              "      <td>IMS</td>\n",
              "      <td>2021-12-28T18:53:40.000Z</td>\n",
              "      <td>48250.00</td>\n",
              "    </tr>\n",
              "    <tr>\n",
              "      <th>40</th>\n",
              "      <td>IMS</td>\n",
              "      <td>2021-12-28T18:56:47.000Z</td>\n",
              "      <td>533500.00</td>\n",
              "    </tr>\n",
              "    <tr>\n",
              "      <th>41</th>\n",
              "      <td>IMS</td>\n",
              "      <td>2021-12-28T19:00:12.000Z</td>\n",
              "      <td>581418.00</td>\n",
              "    </tr>\n",
              "    <tr>\n",
              "      <th>42</th>\n",
              "      <td>XYZ</td>\n",
              "      <td>2021-12-28T19:54:10.000Z</td>\n",
              "      <td>430661.00</td>\n",
              "    </tr>\n",
              "    <tr>\n",
              "      <th>43</th>\n",
              "      <td>SUPPLIER</td>\n",
              "      <td>2022-01-12T08:09:14.000Z</td>\n",
              "      <td>1200.00</td>\n",
              "    </tr>\n",
              "    <tr>\n",
              "      <th>44</th>\n",
              "      <td>Ahsan Zulfiqar</td>\n",
              "      <td>2022-01-14T19:43:27.000Z</td>\n",
              "      <td>100.00</td>\n",
              "    </tr>\n",
              "  </tbody>\n",
              "</table>\n",
              "</div>\n",
              "      <button class=\"colab-df-convert\" onclick=\"convertToInteractive('df-6c6178a3-0686-4eaf-9e1d-d72d0b7b2a01')\"\n",
              "              title=\"Convert this dataframe to an interactive table.\"\n",
              "              style=\"display:none;\">\n",
              "        \n",
              "  <svg xmlns=\"http://www.w3.org/2000/svg\" height=\"24px\"viewBox=\"0 0 24 24\"\n",
              "       width=\"24px\">\n",
              "    <path d=\"M0 0h24v24H0V0z\" fill=\"none\"/>\n",
              "    <path d=\"M18.56 5.44l.94 2.06.94-2.06 2.06-.94-2.06-.94-.94-2.06-.94 2.06-2.06.94zm-11 1L8.5 8.5l.94-2.06 2.06-.94-2.06-.94L8.5 2.5l-.94 2.06-2.06.94zm10 10l.94 2.06.94-2.06 2.06-.94-2.06-.94-.94-2.06-.94 2.06-2.06.94z\"/><path d=\"M17.41 7.96l-1.37-1.37c-.4-.4-.92-.59-1.43-.59-.52 0-1.04.2-1.43.59L10.3 9.45l-7.72 7.72c-.78.78-.78 2.05 0 2.83L4 21.41c.39.39.9.59 1.41.59.51 0 1.02-.2 1.41-.59l7.78-7.78 2.81-2.81c.8-.78.8-2.07 0-2.86zM5.41 20L4 18.59l7.72-7.72 1.47 1.35L5.41 20z\"/>\n",
              "  </svg>\n",
              "      </button>\n",
              "      \n",
              "  <style>\n",
              "    .colab-df-container {\n",
              "      display:flex;\n",
              "      flex-wrap:wrap;\n",
              "      gap: 12px;\n",
              "    }\n",
              "\n",
              "    .colab-df-convert {\n",
              "      background-color: #E8F0FE;\n",
              "      border: none;\n",
              "      border-radius: 50%;\n",
              "      cursor: pointer;\n",
              "      display: none;\n",
              "      fill: #1967D2;\n",
              "      height: 32px;\n",
              "      padding: 0 0 0 0;\n",
              "      width: 32px;\n",
              "    }\n",
              "\n",
              "    .colab-df-convert:hover {\n",
              "      background-color: #E2EBFA;\n",
              "      box-shadow: 0px 1px 2px rgba(60, 64, 67, 0.3), 0px 1px 3px 1px rgba(60, 64, 67, 0.15);\n",
              "      fill: #174EA6;\n",
              "    }\n",
              "\n",
              "    [theme=dark] .colab-df-convert {\n",
              "      background-color: #3B4455;\n",
              "      fill: #D2E3FC;\n",
              "    }\n",
              "\n",
              "    [theme=dark] .colab-df-convert:hover {\n",
              "      background-color: #434B5C;\n",
              "      box-shadow: 0px 1px 3px 1px rgba(0, 0, 0, 0.15);\n",
              "      filter: drop-shadow(0px 1px 2px rgba(0, 0, 0, 0.3));\n",
              "      fill: #FFFFFF;\n",
              "    }\n",
              "  </style>\n",
              "\n",
              "      <script>\n",
              "        const buttonEl =\n",
              "          document.querySelector('#df-6c6178a3-0686-4eaf-9e1d-d72d0b7b2a01 button.colab-df-convert');\n",
              "        buttonEl.style.display =\n",
              "          google.colab.kernel.accessAllowed ? 'block' : 'none';\n",
              "\n",
              "        async function convertToInteractive(key) {\n",
              "          const element = document.querySelector('#df-6c6178a3-0686-4eaf-9e1d-d72d0b7b2a01');\n",
              "          const dataTable =\n",
              "            await google.colab.kernel.invokeFunction('convertToInteractive',\n",
              "                                                     [key], {});\n",
              "          if (!dataTable) return;\n",
              "\n",
              "          const docLinkHtml = 'Like what you see? Visit the ' +\n",
              "            '<a target=\"_blank\" href=https://colab.research.google.com/notebooks/data_table.ipynb>data table notebook</a>'\n",
              "            + ' to learn more about interactive tables.';\n",
              "          element.innerHTML = '';\n",
              "          dataTable['output_type'] = 'display_data';\n",
              "          await google.colab.output.renderOutput(dataTable, element);\n",
              "          const docLink = document.createElement('div');\n",
              "          docLink.innerHTML = docLinkHtml;\n",
              "          element.appendChild(docLink);\n",
              "        }\n",
              "      </script>\n",
              "    </div>\n",
              "  </div>\n",
              "  "
            ],
            "text/plain": [
              "        vendorName               createdDate     netAmt\n",
              "0     SALIC VENDOR  2021-02-26T12:34:53.000Z      10.00\n",
              "1     SALIC VENDOR  2021-03-26T12:35:21.000Z     250.00\n",
              "2     SALIC VENDOR  2021-08-26T12:36:00.000Z     400.00\n",
              "3     SALIC VENDOR  2021-08-26T12:36:32.000Z     200.00\n",
              "4     SALIC VENDOR  2021-05-26T12:36:56.000Z     100.00\n",
              "5     SALIC VENDOR  2021-08-31T09:38:39.000Z     200.00\n",
              "6     SALIC VENDOR  2021-08-31T11:42:55.000Z     300.00\n",
              "7     SALIC VENDOR  2021-09-01T08:19:42.000Z    3663.00\n",
              "8   Ahsan Zulfiqar  2021-09-10T11:03:53.000Z    8500.00\n",
              "9   Ahsan Zulfiqar  2021-09-10T11:04:31.000Z    8500.00\n",
              "10  Ahsan Zulfiqar  2021-09-10T11:07:55.000Z    2000.00\n",
              "11  Ahsan Zulfiqar  2021-09-14T12:16:41.000Z    6000.00\n",
              "12  Ahsan Zulfiqar  2021-09-15T10:18:16.000Z      63.70\n",
              "13    SALIC VENDOR  2021-09-20T08:01:00.000Z  262500.00\n",
              "14    SALIC VENDOR  2021-09-20T08:12:52.000Z     275.00\n",
              "15    SALIC VENDOR  2021-09-21T13:01:38.000Z      10.00\n",
              "16  Ahsan Zulfiqar  2021-09-24T07:39:07.000Z     552.00\n",
              "17    SALIC VENDOR  2021-10-04T09:58:18.000Z     100.00\n",
              "18    SALIC VENDOR  2021-10-04T10:17:07.000Z      34.20\n",
              "19           Ahsan  2021-10-04T11:50:52.000Z   23520.00\n",
              "20    SALIC VENDOR  2021-10-04T14:07:18.000Z     275.00\n",
              "21    SALIC VENDOR  2021-10-04T14:24:16.000Z     275.00\n",
              "22    SALIC VENDOR  2021-10-04T14:26:53.000Z     275.00\n",
              "23    SALIC VENDOR  2021-10-04T14:29:41.000Z     275.00\n",
              "24    SALIC VENDOR  2021-10-14T12:11:01.000Z     100.00\n",
              "25    SALIC VENDOR  2021-10-27T10:59:02.000Z    8712.00\n",
              "26    SALIC VENDOR  2021-10-27T11:17:54.000Z     100.00\n",
              "27    SALIC VENDOR  2021-11-05T06:26:43.000Z  250000.00\n",
              "28    SALIC VENDOR  2021-11-06T18:45:29.000Z    6180.48\n",
              "29    SALIC VENDOR  2021-11-09T08:05:55.000Z      26.25\n",
              "30    SALIC VENDOR  2021-11-10T09:24:51.000Z  250000.00\n",
              "31  Ahsan Zulfiqar  2021-11-11T07:22:29.000Z    1000.00\n",
              "32            MARK  2021-11-11T07:26:22.000Z     300.00\n",
              "33  Ahsan Zulfiqar  2021-11-11T07:31:07.000Z    1000.00\n",
              "34  Ahsan Zulfiqar  2021-11-11T07:58:54.000Z    6000.00\n",
              "35    SALIC VENDOR  2021-11-15T10:53:16.000Z     700.00\n",
              "36         VENDONE  2021-12-03T11:47:41.000Z      40.00\n",
              "37             IMS  2021-12-28T13:01:40.000Z   96898.10\n",
              "38             IMS  2021-12-28T18:48:50.000Z  265995.25\n",
              "39             IMS  2021-12-28T18:53:40.000Z   48250.00\n",
              "40             IMS  2021-12-28T18:56:47.000Z  533500.00\n",
              "41             IMS  2021-12-28T19:00:12.000Z  581418.00\n",
              "42             XYZ  2021-12-28T19:54:10.000Z  430661.00\n",
              "43        SUPPLIER  2022-01-12T08:09:14.000Z    1200.00\n",
              "44  Ahsan Zulfiqar  2022-01-14T19:43:27.000Z     100.00"
            ]
          },
          "metadata": {},
          "execution_count": 4
        }
      ]
    },
    {
      "cell_type": "code",
      "execution_count": null,
      "metadata": {
        "id": "WoG7d2endTb5"
      },
      "outputs": [],
      "source": [
        "df = df[df[\"vendorName\"] == \"SALIC VENDOR\"]\n",
        "df = df.iloc[: , 1:]\n",
        "# print(df)df1=df.reset_index()['close']"
      ]
    },
    {
      "cell_type": "code",
      "execution_count": null,
      "metadata": {
        "id": "8n9Tql5ddTb6"
      },
      "outputs": [],
      "source": [
        "df.rename(columns={'createdDate': 'ds', 'netAmt': 'y'}, inplace=True)"
      ]
    },
    {
      "cell_type": "code",
      "source": [
        "date = []\n",
        "for i in df[\"ds\"]:\n",
        "  i = i[:10]\n",
        "  date.append(i)\n",
        "df[\"ds\"] = date\n",
        "df['ds']= pd.to_datetime(df['ds'])\n",
        "df"
      ],
      "metadata": {
        "colab": {
          "base_uri": "https://localhost:8080/",
          "height": 833
        },
        "id": "HLO8IfxMelRu",
        "outputId": "84be3e5b-3754-451e-c73f-ff37df1e2dd9"
      },
      "execution_count": null,
      "outputs": [
        {
          "output_type": "execute_result",
          "data": {
            "text/html": [
              "\n",
              "  <div id=\"df-b8b5a6cb-e52a-4627-97e6-8454d7c4624b\">\n",
              "    <div class=\"colab-df-container\">\n",
              "      <div>\n",
              "<style scoped>\n",
              "    .dataframe tbody tr th:only-of-type {\n",
              "        vertical-align: middle;\n",
              "    }\n",
              "\n",
              "    .dataframe tbody tr th {\n",
              "        vertical-align: top;\n",
              "    }\n",
              "\n",
              "    .dataframe thead th {\n",
              "        text-align: right;\n",
              "    }\n",
              "</style>\n",
              "<table border=\"1\" class=\"dataframe\">\n",
              "  <thead>\n",
              "    <tr style=\"text-align: right;\">\n",
              "      <th></th>\n",
              "      <th>ds</th>\n",
              "      <th>y</th>\n",
              "    </tr>\n",
              "  </thead>\n",
              "  <tbody>\n",
              "    <tr>\n",
              "      <th>0</th>\n",
              "      <td>2021-02-26</td>\n",
              "      <td>10.00</td>\n",
              "    </tr>\n",
              "    <tr>\n",
              "      <th>1</th>\n",
              "      <td>2021-03-26</td>\n",
              "      <td>250.00</td>\n",
              "    </tr>\n",
              "    <tr>\n",
              "      <th>2</th>\n",
              "      <td>2021-08-26</td>\n",
              "      <td>400.00</td>\n",
              "    </tr>\n",
              "    <tr>\n",
              "      <th>3</th>\n",
              "      <td>2021-08-26</td>\n",
              "      <td>200.00</td>\n",
              "    </tr>\n",
              "    <tr>\n",
              "      <th>4</th>\n",
              "      <td>2021-05-26</td>\n",
              "      <td>100.00</td>\n",
              "    </tr>\n",
              "    <tr>\n",
              "      <th>5</th>\n",
              "      <td>2021-08-31</td>\n",
              "      <td>200.00</td>\n",
              "    </tr>\n",
              "    <tr>\n",
              "      <th>6</th>\n",
              "      <td>2021-08-31</td>\n",
              "      <td>300.00</td>\n",
              "    </tr>\n",
              "    <tr>\n",
              "      <th>7</th>\n",
              "      <td>2021-09-01</td>\n",
              "      <td>3663.00</td>\n",
              "    </tr>\n",
              "    <tr>\n",
              "      <th>13</th>\n",
              "      <td>2021-09-20</td>\n",
              "      <td>262500.00</td>\n",
              "    </tr>\n",
              "    <tr>\n",
              "      <th>14</th>\n",
              "      <td>2021-09-20</td>\n",
              "      <td>275.00</td>\n",
              "    </tr>\n",
              "    <tr>\n",
              "      <th>15</th>\n",
              "      <td>2021-09-21</td>\n",
              "      <td>10.00</td>\n",
              "    </tr>\n",
              "    <tr>\n",
              "      <th>17</th>\n",
              "      <td>2021-10-04</td>\n",
              "      <td>100.00</td>\n",
              "    </tr>\n",
              "    <tr>\n",
              "      <th>18</th>\n",
              "      <td>2021-10-04</td>\n",
              "      <td>34.20</td>\n",
              "    </tr>\n",
              "    <tr>\n",
              "      <th>20</th>\n",
              "      <td>2021-10-04</td>\n",
              "      <td>275.00</td>\n",
              "    </tr>\n",
              "    <tr>\n",
              "      <th>21</th>\n",
              "      <td>2021-10-04</td>\n",
              "      <td>275.00</td>\n",
              "    </tr>\n",
              "    <tr>\n",
              "      <th>22</th>\n",
              "      <td>2021-10-04</td>\n",
              "      <td>275.00</td>\n",
              "    </tr>\n",
              "    <tr>\n",
              "      <th>23</th>\n",
              "      <td>2021-10-04</td>\n",
              "      <td>275.00</td>\n",
              "    </tr>\n",
              "    <tr>\n",
              "      <th>24</th>\n",
              "      <td>2021-10-14</td>\n",
              "      <td>100.00</td>\n",
              "    </tr>\n",
              "    <tr>\n",
              "      <th>25</th>\n",
              "      <td>2021-10-27</td>\n",
              "      <td>8712.00</td>\n",
              "    </tr>\n",
              "    <tr>\n",
              "      <th>26</th>\n",
              "      <td>2021-10-27</td>\n",
              "      <td>100.00</td>\n",
              "    </tr>\n",
              "    <tr>\n",
              "      <th>27</th>\n",
              "      <td>2021-11-05</td>\n",
              "      <td>250000.00</td>\n",
              "    </tr>\n",
              "    <tr>\n",
              "      <th>28</th>\n",
              "      <td>2021-11-06</td>\n",
              "      <td>6180.48</td>\n",
              "    </tr>\n",
              "    <tr>\n",
              "      <th>29</th>\n",
              "      <td>2021-11-09</td>\n",
              "      <td>26.25</td>\n",
              "    </tr>\n",
              "    <tr>\n",
              "      <th>30</th>\n",
              "      <td>2021-11-10</td>\n",
              "      <td>250000.00</td>\n",
              "    </tr>\n",
              "    <tr>\n",
              "      <th>35</th>\n",
              "      <td>2021-11-15</td>\n",
              "      <td>700.00</td>\n",
              "    </tr>\n",
              "  </tbody>\n",
              "</table>\n",
              "</div>\n",
              "      <button class=\"colab-df-convert\" onclick=\"convertToInteractive('df-b8b5a6cb-e52a-4627-97e6-8454d7c4624b')\"\n",
              "              title=\"Convert this dataframe to an interactive table.\"\n",
              "              style=\"display:none;\">\n",
              "        \n",
              "  <svg xmlns=\"http://www.w3.org/2000/svg\" height=\"24px\"viewBox=\"0 0 24 24\"\n",
              "       width=\"24px\">\n",
              "    <path d=\"M0 0h24v24H0V0z\" fill=\"none\"/>\n",
              "    <path d=\"M18.56 5.44l.94 2.06.94-2.06 2.06-.94-2.06-.94-.94-2.06-.94 2.06-2.06.94zm-11 1L8.5 8.5l.94-2.06 2.06-.94-2.06-.94L8.5 2.5l-.94 2.06-2.06.94zm10 10l.94 2.06.94-2.06 2.06-.94-2.06-.94-.94-2.06-.94 2.06-2.06.94z\"/><path d=\"M17.41 7.96l-1.37-1.37c-.4-.4-.92-.59-1.43-.59-.52 0-1.04.2-1.43.59L10.3 9.45l-7.72 7.72c-.78.78-.78 2.05 0 2.83L4 21.41c.39.39.9.59 1.41.59.51 0 1.02-.2 1.41-.59l7.78-7.78 2.81-2.81c.8-.78.8-2.07 0-2.86zM5.41 20L4 18.59l7.72-7.72 1.47 1.35L5.41 20z\"/>\n",
              "  </svg>\n",
              "      </button>\n",
              "      \n",
              "  <style>\n",
              "    .colab-df-container {\n",
              "      display:flex;\n",
              "      flex-wrap:wrap;\n",
              "      gap: 12px;\n",
              "    }\n",
              "\n",
              "    .colab-df-convert {\n",
              "      background-color: #E8F0FE;\n",
              "      border: none;\n",
              "      border-radius: 50%;\n",
              "      cursor: pointer;\n",
              "      display: none;\n",
              "      fill: #1967D2;\n",
              "      height: 32px;\n",
              "      padding: 0 0 0 0;\n",
              "      width: 32px;\n",
              "    }\n",
              "\n",
              "    .colab-df-convert:hover {\n",
              "      background-color: #E2EBFA;\n",
              "      box-shadow: 0px 1px 2px rgba(60, 64, 67, 0.3), 0px 1px 3px 1px rgba(60, 64, 67, 0.15);\n",
              "      fill: #174EA6;\n",
              "    }\n",
              "\n",
              "    [theme=dark] .colab-df-convert {\n",
              "      background-color: #3B4455;\n",
              "      fill: #D2E3FC;\n",
              "    }\n",
              "\n",
              "    [theme=dark] .colab-df-convert:hover {\n",
              "      background-color: #434B5C;\n",
              "      box-shadow: 0px 1px 3px 1px rgba(0, 0, 0, 0.15);\n",
              "      filter: drop-shadow(0px 1px 2px rgba(0, 0, 0, 0.3));\n",
              "      fill: #FFFFFF;\n",
              "    }\n",
              "  </style>\n",
              "\n",
              "      <script>\n",
              "        const buttonEl =\n",
              "          document.querySelector('#df-b8b5a6cb-e52a-4627-97e6-8454d7c4624b button.colab-df-convert');\n",
              "        buttonEl.style.display =\n",
              "          google.colab.kernel.accessAllowed ? 'block' : 'none';\n",
              "\n",
              "        async function convertToInteractive(key) {\n",
              "          const element = document.querySelector('#df-b8b5a6cb-e52a-4627-97e6-8454d7c4624b');\n",
              "          const dataTable =\n",
              "            await google.colab.kernel.invokeFunction('convertToInteractive',\n",
              "                                                     [key], {});\n",
              "          if (!dataTable) return;\n",
              "\n",
              "          const docLinkHtml = 'Like what you see? Visit the ' +\n",
              "            '<a target=\"_blank\" href=https://colab.research.google.com/notebooks/data_table.ipynb>data table notebook</a>'\n",
              "            + ' to learn more about interactive tables.';\n",
              "          element.innerHTML = '';\n",
              "          dataTable['output_type'] = 'display_data';\n",
              "          await google.colab.output.renderOutput(dataTable, element);\n",
              "          const docLink = document.createElement('div');\n",
              "          docLink.innerHTML = docLinkHtml;\n",
              "          element.appendChild(docLink);\n",
              "        }\n",
              "      </script>\n",
              "    </div>\n",
              "  </div>\n",
              "  "
            ],
            "text/plain": [
              "           ds          y\n",
              "0  2021-02-26      10.00\n",
              "1  2021-03-26     250.00\n",
              "2  2021-08-26     400.00\n",
              "3  2021-08-26     200.00\n",
              "4  2021-05-26     100.00\n",
              "5  2021-08-31     200.00\n",
              "6  2021-08-31     300.00\n",
              "7  2021-09-01    3663.00\n",
              "13 2021-09-20  262500.00\n",
              "14 2021-09-20     275.00\n",
              "15 2021-09-21      10.00\n",
              "17 2021-10-04     100.00\n",
              "18 2021-10-04      34.20\n",
              "20 2021-10-04     275.00\n",
              "21 2021-10-04     275.00\n",
              "22 2021-10-04     275.00\n",
              "23 2021-10-04     275.00\n",
              "24 2021-10-14     100.00\n",
              "25 2021-10-27    8712.00\n",
              "26 2021-10-27     100.00\n",
              "27 2021-11-05  250000.00\n",
              "28 2021-11-06    6180.48\n",
              "29 2021-11-09      26.25\n",
              "30 2021-11-10  250000.00\n",
              "35 2021-11-15     700.00"
            ]
          },
          "metadata": {},
          "execution_count": 7
        }
      ]
    },
    {
      "cell_type": "code",
      "source": [
        "df1 = df[\"y\"]\n",
        "df1"
      ],
      "metadata": {
        "colab": {
          "base_uri": "https://localhost:8080/"
        },
        "id": "QvK5OINheso2",
        "outputId": "06795bb4-65bd-4402-acf9-bfd97b677a24"
      },
      "execution_count": null,
      "outputs": [
        {
          "output_type": "execute_result",
          "data": {
            "text/plain": [
              "0         10.00\n",
              "1        250.00\n",
              "2        400.00\n",
              "3        200.00\n",
              "4        100.00\n",
              "5        200.00\n",
              "6        300.00\n",
              "7       3663.00\n",
              "13    262500.00\n",
              "14       275.00\n",
              "15        10.00\n",
              "17       100.00\n",
              "18        34.20\n",
              "20       275.00\n",
              "21       275.00\n",
              "22       275.00\n",
              "23       275.00\n",
              "24       100.00\n",
              "25      8712.00\n",
              "26       100.00\n",
              "27    250000.00\n",
              "28      6180.48\n",
              "29        26.25\n",
              "30    250000.00\n",
              "35       700.00\n",
              "Name: y, dtype: float64"
            ]
          },
          "metadata": {},
          "execution_count": 8
        }
      ]
    },
    {
      "cell_type": "code",
      "execution_count": null,
      "metadata": {
        "colab": {
          "base_uri": "https://localhost:8080/",
          "height": 282
        },
        "id": "0t9AkbzsdTb6",
        "outputId": "db19dab5-0fc3-4284-966a-c216dd5505dc"
      },
      "outputs": [
        {
          "output_type": "execute_result",
          "data": {
            "text/plain": [
              "[<matplotlib.lines.Line2D at 0x7f49f9b01310>]"
            ]
          },
          "metadata": {},
          "execution_count": 9
        },
        {
          "output_type": "display_data",
          "data": {
            "image/png": "[encoded data removed]",
            "text/plain": [
              "<Figure size 432x288 with 1 Axes>"
            ]
          },
          "metadata": {
            "needs_background": "light"
          }
        }
      ],
      "source": [
        "import matplotlib.pyplot as plt\n",
        "plt.plot(df1)"
      ]
    },
    {
      "cell_type": "code",
      "execution_count": null,
      "metadata": {
        "id": "UkAIzlB3dTcC"
      },
      "outputs": [],
      "source": [
        "### LSTM are sensitive to the scale of the data. so we apply MinMax scaler \n",
        "scaler=MinMaxScaler(feature_range=(0,1))\n",
        "df1=scaler.fit_transform(np.array(df1).reshape(-1,1))"
      ]
    },
    {
      "cell_type": "code",
      "execution_count": null,
      "metadata": {
        "colab": {
          "base_uri": "https://localhost:8080/"
        },
        "id": "jRoZeCmcdTb8",
        "outputId": "8684f61f-b597-464c-a311-92bdc29d2ad7"
      },
      "outputs": [
        {
          "output_type": "execute_result",
          "data": {
            "text/plain": [
              "array([[0.00000000e+00],\n",
              "       [9.14320546e-04],\n",
              "       [1.48577089e-03],\n",
              "       [7.23837099e-04],\n",
              "       [3.42870205e-04],\n",
              "       [7.23837099e-04],\n",
              "       [1.10480399e-03],\n",
              "       [1.39167206e-02],\n",
              "       [1.00000000e+00],\n",
              "       [1.00956227e-03],\n",
              "       [0.00000000e+00],\n",
              "       [3.42870205e-04],\n",
              "       [9.21939883e-05],\n",
              "       [1.00956227e-03],\n",
              "       [1.00956227e-03],\n",
              "       [1.00956227e-03],\n",
              "       [1.00956227e-03],\n",
              "       [3.42870205e-04],\n",
              "       [3.31517391e-02],\n",
              "       [3.42870205e-04],\n",
              "       [9.52379138e-01],\n",
              "       [2.35074860e-02],\n",
              "       [6.19071203e-05],\n",
              "       [9.52379138e-01],\n",
              "       [2.62867157e-03]])"
            ]
          },
          "metadata": {},
          "execution_count": 11
        }
      ],
      "source": [
        "df1"
      ]
    },
    {
      "cell_type": "code",
      "execution_count": null,
      "metadata": {
        "id": "-qO_AYapdTb9"
      },
      "outputs": [],
      "source": [
        "##splitting dataset into train and test split\n",
        "training_size=int(len(df1)*0.65)\n",
        "test_size=len(df1)-training_size\n",
        "train_data,test_data=df1[0:training_size,:],df1[training_size:len(df1),:1]"
      ]
    },
    {
      "cell_type": "code",
      "execution_count": null,
      "metadata": {
        "colab": {
          "base_uri": "https://localhost:8080/"
        },
        "id": "UDqhQkPsdTb-",
        "outputId": "3f682cab-33f0-4a64-b4a6-8cd474662458"
      },
      "outputs": [
        {
          "output_type": "execute_result",
          "data": {
            "text/plain": [
              "(16, 9)"
            ]
          },
          "metadata": {},
          "execution_count": 13
        }
      ],
      "source": [
        "training_size,test_size"
      ]
    },
    {
      "cell_type": "code",
      "execution_count": null,
      "metadata": {
        "colab": {
          "base_uri": "https://localhost:8080/"
        },
        "id": "7qH6lAYEdTb-",
        "outputId": "76350bc3-ff87-4779-d8f2-8d49f01a877a"
      },
      "outputs": [
        {
          "output_type": "execute_result",
          "data": {
            "text/plain": [
              "array([[0.00000000e+00],\n",
              "       [9.14320546e-04],\n",
              "       [1.48577089e-03],\n",
              "       [7.23837099e-04],\n",
              "       [3.42870205e-04],\n",
              "       [7.23837099e-04],\n",
              "       [1.10480399e-03],\n",
              "       [1.39167206e-02],\n",
              "       [1.00000000e+00],\n",
              "       [1.00956227e-03],\n",
              "       [0.00000000e+00],\n",
              "       [3.42870205e-04],\n",
              "       [9.21939883e-05],\n",
              "       [1.00956227e-03],\n",
              "       [1.00956227e-03],\n",
              "       [1.00956227e-03]])"
            ]
          },
          "metadata": {},
          "execution_count": 14
        }
      ],
      "source": [
        "train_data"
      ]
    },
    {
      "cell_type": "code",
      "execution_count": null,
      "metadata": {
        "id": "AV7COYCBdTb_"
      },
      "outputs": [],
      "source": [
        "# convert an array of values into a dataset matrix\n",
        "def create_dataset(dataset, time_step=1):\n",
        "\tdataX, dataY = [], []\n",
        "\tfor i in range(len(dataset)-time_step-1):\n",
        "\t\ta = dataset[i:(i+time_step), 0]   ###i=0, 0,1,2,3-----99   100 \n",
        "\t\tdataX.append(a)\n",
        "\t\tdataY.append(dataset[i + time_step, 0])\n",
        "\treturn np.array(dataX), np.array(dataY)"
      ]
    },
    {
      "cell_type": "code",
      "execution_count": null,
      "metadata": {
        "id": "eHT3T6tDdTb_"
      },
      "outputs": [],
      "source": [
        "# reshape into X=t,t+1,t+2,t+3 and Y=t+4\n",
        "time_step = 5\n",
        "X_train, y_train = create_dataset(train_data, time_step)\n",
        "X_test, ytest = create_dataset(test_data, time_step)"
      ]
    },
    {
      "cell_type": "code",
      "execution_count": null,
      "metadata": {
        "colab": {
          "base_uri": "https://localhost:8080/"
        },
        "id": "k5Ag1Mq9dTb_",
        "outputId": "7369381c-55be-4759-d8f2-2b725416cd4d"
      },
      "outputs": [
        {
          "output_type": "stream",
          "name": "stdout",
          "text": [
            "(10, 5)\n",
            "(10,)\n"
          ]
        },
        {
          "output_type": "execute_result",
          "data": {
            "text/plain": [
              "(None, None)"
            ]
          },
          "metadata": {},
          "execution_count": 19
        }
      ],
      "source": [
        "print(X_train.shape), print(y_train.shape)"
      ]
    },
    {
      "cell_type": "code",
      "execution_count": null,
      "metadata": {
        "colab": {
          "base_uri": "https://localhost:8080/"
        },
        "id": "orJPPuTLdTcA",
        "outputId": "a8b9d222-c969-4ffc-9177-48ead0db3d1a"
      },
      "outputs": [
        {
          "output_type": "stream",
          "name": "stdout",
          "text": [
            "(3, 5)\n",
            "(3,)\n"
          ]
        },
        {
          "output_type": "execute_result",
          "data": {
            "text/plain": [
              "(None, None)"
            ]
          },
          "metadata": {},
          "execution_count": 20
        }
      ],
      "source": [
        "print(X_test.shape), print(ytest.shape)"
      ]
    },
    {
      "cell_type": "code",
      "execution_count": null,
      "metadata": {
        "id": "Yj452XsOdTcA"
      },
      "outputs": [],
      "source": [
        "# reshape input to be [samples, time steps, features] which is required for LSTM\n",
        "X_train =X_train.reshape(X_train.shape[0],X_train.shape[1] , 1)\n",
        "X_test = X_test.reshape(X_test.shape[0],X_test.shape[1] , 1)"
      ]
    },
    {
      "cell_type": "code",
      "execution_count": null,
      "metadata": {
        "id": "ZgzC9tTPdTcB"
      },
      "outputs": [],
      "source": [
        "model=Sequential()\n",
        "model.add(LSTM(30,return_sequences=True,input_shape=(5,1)))\n",
        "model.add(LSTM(30,return_sequences=True))\n",
        "model.add(LSTM(15))\n",
        "model.add(Dense(1))\n",
        "model.compile(loss='mean_squared_error',optimizer='adam')\n"
      ]
    },
    {
      "cell_type": "code",
      "execution_count": null,
      "metadata": {
        "colab": {
          "base_uri": "https://localhost:8080/"
        },
        "id": "4qRCC7e_dTcB",
        "outputId": "3905df50-6b5a-4927-9f2b-8f50a46cae01"
      },
      "outputs": [
        {
          "output_type": "stream",
          "name": "stdout",
          "text": [
            "Model: \"sequential\"\n",
            "_________________________________________________________________\n",
            " Layer (type)                Output Shape              Param #   \n",
            "=================================================================\n",
            " lstm (LSTM)                 (None, 5, 30)             3840      \n",
            "                                                                 \n",
            " lstm_1 (LSTM)               (None, 5, 30)             7320      \n",
            "                                                                 \n",
            " lstm_2 (LSTM)               (None, 15)                2760      \n",
            "                                                                 \n",
            " dense (Dense)               (None, 1)                 16        \n",
            "                                                                 \n",
            "=================================================================\n",
            "Total params: 13,936\n",
            "Trainable params: 13,936\n",
            "Non-trainable params: 0\n",
            "_________________________________________________________________\n"
          ]
        }
      ],
      "source": [
        "model.summary()"
      ]
    },
    {
      "cell_type": "code",
      "execution_count": null,
      "metadata": {
        "colab": {
          "base_uri": "https://localhost:8080/"
        },
        "id": "c9opoS5-dTcC",
        "outputId": "79953ee8-44d1-4797-951f-49e03d83ffc5"
      },
      "outputs": [
        {
          "output_type": "stream",
          "name": "stdout",
          "text": [
            "Epoch 1/100\n",
            "1/1 [==============================] - 8s 8s/step - loss: 0.1000 - val_loss: 0.2977\n",
            "Epoch 2/100\n",
            "1/1 [==============================] - 0s 40ms/step - loss: 0.0986 - val_loss: 0.2930\n",
            "Epoch 3/100\n",
            "1/1 [==============================] - 0s 41ms/step - loss: 0.0972 - val_loss: 0.2884\n",
            "Epoch 4/100\n",
            "1/1 [==============================] - 0s 40ms/step - loss: 0.0959 - val_loss: 0.2838\n",
            "Epoch 5/100\n",
            "1/1 [==============================] - 0s 47ms/step - loss: 0.0946 - val_loss: 0.2793\n",
            "Epoch 6/100\n",
            "1/1 [==============================] - 0s 39ms/step - loss: 0.0935 - val_loss: 0.2748\n",
            "Epoch 7/100\n",
            "1/1 [==============================] - 0s 48ms/step - loss: 0.0924 - val_loss: 0.2704\n",
            "Epoch 8/100\n",
            "1/1 [==============================] - 0s 38ms/step - loss: 0.0914 - val_loss: 0.2660\n",
            "Epoch 9/100\n",
            "1/1 [==============================] - 0s 42ms/step - loss: 0.0905 - val_loss: 0.2618\n",
            "Epoch 10/100\n",
            "1/1 [==============================] - 0s 43ms/step - loss: 0.0898 - val_loss: 0.2578\n",
            "Epoch 11/100\n",
            "1/1 [==============================] - 0s 43ms/step - loss: 0.0892 - val_loss: 0.2541\n",
            "Epoch 12/100\n",
            "1/1 [==============================] - 0s 43ms/step - loss: 0.0887 - val_loss: 0.2507\n",
            "Epoch 13/100\n",
            "1/1 [==============================] - 0s 40ms/step - loss: 0.0885 - val_loss: 0.2478\n",
            "Epoch 14/100\n",
            "1/1 [==============================] - 0s 39ms/step - loss: 0.0883 - val_loss: 0.2454\n",
            "Epoch 15/100\n",
            "1/1 [==============================] - 0s 40ms/step - loss: 0.0882 - val_loss: 0.2436\n",
            "Epoch 16/100\n",
            "1/1 [==============================] - 0s 38ms/step - loss: 0.0882 - val_loss: 0.2426\n",
            "Epoch 17/100\n",
            "1/1 [==============================] - 0s 37ms/step - loss: 0.0881 - val_loss: 0.2424\n",
            "Epoch 18/100\n",
            "1/1 [==============================] - 0s 40ms/step - loss: 0.0881 - val_loss: 0.2428\n",
            "Epoch 19/100\n",
            "1/1 [==============================] - 0s 48ms/step - loss: 0.0879 - val_loss: 0.2439\n",
            "Epoch 20/100\n",
            "1/1 [==============================] - 0s 41ms/step - loss: 0.0876 - val_loss: 0.2456\n",
            "Epoch 21/100\n",
            "1/1 [==============================] - 0s 38ms/step - loss: 0.0873 - val_loss: 0.2477\n",
            "Epoch 22/100\n",
            "1/1 [==============================] - 0s 41ms/step - loss: 0.0869 - val_loss: 0.2503\n",
            "Epoch 23/100\n",
            "1/1 [==============================] - 0s 43ms/step - loss: 0.0866 - val_loss: 0.2531\n",
            "Epoch 24/100\n",
            "1/1 [==============================] - 0s 46ms/step - loss: 0.0862 - val_loss: 0.2561\n",
            "Epoch 25/100\n",
            "1/1 [==============================] - 0s 42ms/step - loss: 0.0859 - val_loss: 0.2593\n",
            "Epoch 26/100\n",
            "1/1 [==============================] - 0s 38ms/step - loss: 0.0856 - val_loss: 0.2625\n",
            "Epoch 27/100\n",
            "1/1 [==============================] - 0s 37ms/step - loss: 0.0854 - val_loss: 0.2656\n",
            "Epoch 28/100\n",
            "1/1 [==============================] - 0s 40ms/step - loss: 0.0852 - val_loss: 0.2686\n",
            "Epoch 29/100\n",
            "1/1 [==============================] - 0s 41ms/step - loss: 0.0851 - val_loss: 0.2713\n",
            "Epoch 30/100\n",
            "1/1 [==============================] - 0s 39ms/step - loss: 0.0849 - val_loss: 0.2737\n",
            "Epoch 31/100\n",
            "1/1 [==============================] - 0s 35ms/step - loss: 0.0848 - val_loss: 0.2756\n",
            "Epoch 32/100\n",
            "1/1 [==============================] - 0s 37ms/step - loss: 0.0846 - val_loss: 0.2770\n",
            "Epoch 33/100\n",
            "1/1 [==============================] - 0s 37ms/step - loss: 0.0844 - val_loss: 0.2780\n",
            "Epoch 34/100\n",
            "1/1 [==============================] - 0s 39ms/step - loss: 0.0842 - val_loss: 0.2786\n",
            "Epoch 35/100\n",
            "1/1 [==============================] - 0s 43ms/step - loss: 0.0840 - val_loss: 0.2787\n",
            "Epoch 36/100\n",
            "1/1 [==============================] - 0s 41ms/step - loss: 0.0839 - val_loss: 0.2786\n",
            "Epoch 37/100\n",
            "1/1 [==============================] - 0s 38ms/step - loss: 0.0837 - val_loss: 0.2783\n",
            "Epoch 38/100\n",
            "1/1 [==============================] - 0s 43ms/step - loss: 0.0836 - val_loss: 0.2781\n",
            "Epoch 39/100\n",
            "1/1 [==============================] - 0s 41ms/step - loss: 0.0836 - val_loss: 0.2781\n",
            "Epoch 40/100\n",
            "1/1 [==============================] - 0s 41ms/step - loss: 0.0836 - val_loss: 0.2786\n",
            "Epoch 41/100\n",
            "1/1 [==============================] - 0s 39ms/step - loss: 0.0837 - val_loss: 0.2795\n",
            "Epoch 42/100\n",
            "1/1 [==============================] - 0s 43ms/step - loss: 0.0837 - val_loss: 0.2809\n",
            "Epoch 43/100\n",
            "1/1 [==============================] - 0s 48ms/step - loss: 0.0837 - val_loss: 0.2827\n",
            "Epoch 44/100\n",
            "1/1 [==============================] - 0s 37ms/step - loss: 0.0836 - val_loss: 0.2846\n",
            "Epoch 45/100\n",
            "1/1 [==============================] - 0s 38ms/step - loss: 0.0835 - val_loss: 0.2866\n",
            "Epoch 46/100\n",
            "1/1 [==============================] - 0s 41ms/step - loss: 0.0835 - val_loss: 0.2884\n",
            "Epoch 47/100\n",
            "1/1 [==============================] - 0s 43ms/step - loss: 0.0834 - val_loss: 0.2898\n",
            "Epoch 48/100\n",
            "1/1 [==============================] - 0s 36ms/step - loss: 0.0834 - val_loss: 0.2906\n",
            "Epoch 49/100\n",
            "1/1 [==============================] - 0s 42ms/step - loss: 0.0834 - val_loss: 0.2908\n",
            "Epoch 50/100\n",
            "1/1 [==============================] - 0s 46ms/step - loss: 0.0833 - val_loss: 0.2905\n",
            "Epoch 51/100\n",
            "1/1 [==============================] - 0s 40ms/step - loss: 0.0832 - val_loss: 0.2897\n",
            "Epoch 52/100\n",
            "1/1 [==============================] - 0s 40ms/step - loss: 0.0832 - val_loss: 0.2886\n",
            "Epoch 53/100\n",
            "1/1 [==============================] - 0s 42ms/step - loss: 0.0831 - val_loss: 0.2874\n",
            "Epoch 54/100\n",
            "1/1 [==============================] - 0s 39ms/step - loss: 0.0830 - val_loss: 0.2862\n",
            "Epoch 55/100\n",
            "1/1 [==============================] - 0s 43ms/step - loss: 0.0830 - val_loss: 0.2852\n",
            "Epoch 56/100\n",
            "1/1 [==============================] - 0s 49ms/step - loss: 0.0829 - val_loss: 0.2844\n",
            "Epoch 57/100\n",
            "1/1 [==============================] - 0s 38ms/step - loss: 0.0829 - val_loss: 0.2839\n",
            "Epoch 58/100\n",
            "1/1 [==============================] - 0s 42ms/step - loss: 0.0829 - val_loss: 0.2838\n",
            "Epoch 59/100\n",
            "1/1 [==============================] - 0s 40ms/step - loss: 0.0828 - val_loss: 0.2840\n",
            "Epoch 60/100\n",
            "1/1 [==============================] - 0s 39ms/step - loss: 0.0828 - val_loss: 0.2844\n",
            "Epoch 61/100\n",
            "1/1 [==============================] - 0s 39ms/step - loss: 0.0828 - val_loss: 0.2851\n",
            "Epoch 62/100\n",
            "1/1 [==============================] - 0s 41ms/step - loss: 0.0827 - val_loss: 0.2859\n",
            "Epoch 63/100\n",
            "1/1 [==============================] - 0s 41ms/step - loss: 0.0827 - val_loss: 0.2867\n",
            "Epoch 64/100\n",
            "1/1 [==============================] - 0s 44ms/step - loss: 0.0826 - val_loss: 0.2876\n",
            "Epoch 65/100\n",
            "1/1 [==============================] - 0s 49ms/step - loss: 0.0826 - val_loss: 0.2884\n",
            "Epoch 66/100\n",
            "1/1 [==============================] - 0s 38ms/step - loss: 0.0826 - val_loss: 0.2891\n",
            "Epoch 67/100\n",
            "1/1 [==============================] - 0s 37ms/step - loss: 0.0825 - val_loss: 0.2896\n",
            "Epoch 68/100\n",
            "1/1 [==============================] - 0s 41ms/step - loss: 0.0825 - val_loss: 0.2901\n",
            "Epoch 69/100\n",
            "1/1 [==============================] - 0s 38ms/step - loss: 0.0824 - val_loss: 0.2904\n",
            "Epoch 70/100\n",
            "1/1 [==============================] - 0s 40ms/step - loss: 0.0824 - val_loss: 0.2908\n",
            "Epoch 71/100\n",
            "1/1 [==============================] - 0s 41ms/step - loss: 0.0823 - val_loss: 0.2911\n",
            "Epoch 72/100\n",
            "1/1 [==============================] - 0s 40ms/step - loss: 0.0823 - val_loss: 0.2915\n",
            "Epoch 73/100\n",
            "1/1 [==============================] - 0s 39ms/step - loss: 0.0822 - val_loss: 0.2920\n",
            "Epoch 74/100\n",
            "1/1 [==============================] - 0s 41ms/step - loss: 0.0822 - val_loss: 0.2926\n",
            "Epoch 75/100\n",
            "1/1 [==============================] - 0s 40ms/step - loss: 0.0821 - val_loss: 0.2933\n",
            "Epoch 76/100\n",
            "1/1 [==============================] - 0s 38ms/step - loss: 0.0821 - val_loss: 0.2942\n",
            "Epoch 77/100\n",
            "1/1 [==============================] - 0s 38ms/step - loss: 0.0820 - val_loss: 0.2951\n",
            "Epoch 78/100\n",
            "1/1 [==============================] - 0s 39ms/step - loss: 0.0820 - val_loss: 0.2960\n",
            "Epoch 79/100\n",
            "1/1 [==============================] - 0s 39ms/step - loss: 0.0819 - val_loss: 0.2969\n",
            "Epoch 80/100\n",
            "1/1 [==============================] - 0s 39ms/step - loss: 0.0819 - val_loss: 0.2977\n",
            "Epoch 81/100\n",
            "1/1 [==============================] - 0s 40ms/step - loss: 0.0818 - val_loss: 0.2984\n",
            "Epoch 82/100\n",
            "1/1 [==============================] - 0s 39ms/step - loss: 0.0818 - val_loss: 0.2989\n",
            "Epoch 83/100\n",
            "1/1 [==============================] - 0s 39ms/step - loss: 0.0817 - val_loss: 0.2993\n",
            "Epoch 84/100\n",
            "1/1 [==============================] - 0s 42ms/step - loss: 0.0817 - val_loss: 0.2996\n",
            "Epoch 85/100\n",
            "1/1 [==============================] - 0s 39ms/step - loss: 0.0816 - val_loss: 0.2998\n",
            "Epoch 86/100\n",
            "1/1 [==============================] - 0s 42ms/step - loss: 0.0816 - val_loss: 0.2999\n",
            "Epoch 87/100\n",
            "1/1 [==============================] - 0s 44ms/step - loss: 0.0815 - val_loss: 0.3001\n",
            "Epoch 88/100\n",
            "1/1 [==============================] - 0s 46ms/step - loss: 0.0815 - val_loss: 0.3004\n",
            "Epoch 89/100\n",
            "1/1 [==============================] - 0s 40ms/step - loss: 0.0815 - val_loss: 0.3007\n",
            "Epoch 90/100\n",
            "1/1 [==============================] - 0s 41ms/step - loss: 0.0814 - val_loss: 0.3010\n",
            "Epoch 91/100\n",
            "1/1 [==============================] - 0s 41ms/step - loss: 0.0814 - val_loss: 0.3015\n",
            "Epoch 92/100\n",
            "1/1 [==============================] - 0s 43ms/step - loss: 0.0813 - val_loss: 0.3020\n",
            "Epoch 93/100\n",
            "1/1 [==============================] - 0s 41ms/step - loss: 0.0813 - val_loss: 0.3026\n",
            "Epoch 94/100\n",
            "1/1 [==============================] - 0s 43ms/step - loss: 0.0812 - val_loss: 0.3031\n",
            "Epoch 95/100\n",
            "1/1 [==============================] - 0s 50ms/step - loss: 0.0812 - val_loss: 0.3036\n",
            "Epoch 96/100\n",
            "1/1 [==============================] - 0s 38ms/step - loss: 0.0811 - val_loss: 0.3041\n",
            "Epoch 97/100\n",
            "1/1 [==============================] - 0s 41ms/step - loss: 0.0811 - val_loss: 0.3045\n",
            "Epoch 98/100\n",
            "1/1 [==============================] - 0s 45ms/step - loss: 0.0810 - val_loss: 0.3050\n",
            "Epoch 99/100\n",
            "1/1 [==============================] - 0s 42ms/step - loss: 0.0810 - val_loss: 0.3054\n",
            "Epoch 100/100\n",
            "1/1 [==============================] - 0s 46ms/step - loss: 0.0809 - val_loss: 0.3058\n"
          ]
        },
        {
          "output_type": "execute_result",
          "data": {
            "text/plain": [
              "<keras.callbacks.History at 0x7f49f50d3dd0>"
            ]
          },
          "metadata": {},
          "execution_count": 24
        }
      ],
      "source": [
        "model.fit(X_train,y_train,validation_data=(X_test,ytest),epochs=100,batch_size=64,verbose=1)"
      ]
    },
    {
      "cell_type": "code",
      "execution_count": null,
      "metadata": {
        "id": "6oNGRLmxdTcC"
      },
      "outputs": [],
      "source": [
        "### Lets Do the prediction and check performance metrics\n",
        "train_predict=model.predict(X_train)\n",
        "test_predict=model.predict(X_test)"
      ]
    },
    {
      "cell_type": "code",
      "execution_count": null,
      "metadata": {
        "id": "SNiFH439dTcC"
      },
      "outputs": [],
      "source": [
        "##Transformback to original form\n",
        "train_predict=scaler.inverse_transform(train_predict)\n",
        "test_predict=scaler.inverse_transform(test_predict)"
      ]
    },
    {
      "cell_type": "code",
      "execution_count": null,
      "metadata": {
        "colab": {
          "base_uri": "https://localhost:8080/"
        },
        "id": "1Pt2yDM6dTcD",
        "outputId": "017f2246-f230-4a3d-c476-ca825fd7e7a3"
      },
      "outputs": [
        {
          "output_type": "execute_result",
          "data": {
            "text/plain": [
              "35078.96166665948"
            ]
          },
          "metadata": {},
          "execution_count": 27
        }
      ],
      "source": [
        "### Calculate RMSE performance metrics\n",
        "import math\n",
        "from sklearn.metrics import mean_squared_error\n",
        "math.sqrt(mean_squared_error(y_train,train_predict))"
      ]
    },
    {
      "cell_type": "code",
      "execution_count": null,
      "metadata": {
        "colab": {
          "base_uri": "https://localhost:8080/"
        },
        "id": "3CVg1cordTcD",
        "outputId": "383e4945-0e23-4932-d71d-8465eccc6085"
      },
      "outputs": [
        {
          "output_type": "execute_result",
          "data": {
            "text/plain": [
              "16429.90638873144"
            ]
          },
          "metadata": {},
          "execution_count": 28
        }
      ],
      "source": [
        "### Test Data RMSE\n",
        "math.sqrt(mean_squared_error(ytest,test_predict))"
      ]
    },
    {
      "cell_type": "code",
      "execution_count": null,
      "metadata": {
        "colab": {
          "base_uri": "https://localhost:8080/",
          "height": 265
        },
        "id": "OmQG5ohKdTcD",
        "outputId": "9b5e8fbf-bb86-4a99-8466-e7a2caee1f91"
      },
      "outputs": [
        {
          "output_type": "display_data",
          "data": {
            "image/png": "[encoded data removed]",
            "text/plain": [
              "<Figure size 432x288 with 1 Axes>"
            ]
          },
          "metadata": {
            "needs_background": "light"
          }
        }
      ],
      "source": [
        "### Plotting \n",
        "# shift train predictions for plotting\n",
        "import numpy\n",
        "look_back=5\n",
        "trainPredictPlot = numpy.empty_like(df1)\n",
        "trainPredictPlot[:, :] = np.nan\n",
        "trainPredictPlot[look_back:len(train_predict)+look_back, :] = train_predict\n",
        "# shift test predictions for plotting\n",
        "testPredictPlot = numpy.empty_like(df1)\n",
        "testPredictPlot[:, :] = numpy.nan\n",
        "testPredictPlot[len(train_predict)+(look_back*2)+1:len(df1)-1, :] = test_predict\n",
        "# plot baseline and predictions\n",
        "plt.plot(scaler.inverse_transform(df1))\n",
        "plt.plot(trainPredictPlot)\n",
        "plt.plot(testPredictPlot)\n",
        "plt.show()"
      ]
    },
    {
      "cell_type": "code",
      "execution_count": null,
      "metadata": {
        "colab": {
          "base_uri": "https://localhost:8080/"
        },
        "id": "E0pJhE7ndTcE",
        "outputId": "3313fb23-83e4-403a-fc0a-fce92e85da57"
      },
      "outputs": [
        {
          "output_type": "execute_result",
          "data": {
            "text/plain": [
              "9"
            ]
          },
          "metadata": {},
          "execution_count": 31
        }
      ],
      "source": [
        "len(test_data)"
      ]
    },
    {
      "cell_type": "code",
      "execution_count": null,
      "metadata": {
        "colab": {
          "base_uri": "https://localhost:8080/"
        },
        "id": "EJkUWP6PdTcE",
        "outputId": "37e895fc-7629-4d21-cdcf-7499279fc50f"
      },
      "outputs": [
        {
          "output_type": "execute_result",
          "data": {
            "text/plain": [
              "(1, 5)"
            ]
          },
          "metadata": {},
          "execution_count": 32
        }
      ],
      "source": [
        "x_input=test_data[4:].reshape(1,-1)\n",
        "x_input.shape\n"
      ]
    },
    {
      "cell_type": "code",
      "execution_count": null,
      "metadata": {
        "id": "T20VNz8vdTcE"
      },
      "outputs": [],
      "source": [
        "temp_input=list(x_input)\n",
        "temp_input=temp_input[0].tolist()"
      ]
    },
    {
      "cell_type": "code",
      "execution_count": null,
      "metadata": {
        "colab": {
          "base_uri": "https://localhost:8080/"
        },
        "id": "wSODHVlJdTcF",
        "outputId": "d0e96d49-6a69-49cd-cc06-3dc9707177b0"
      },
      "outputs": [
        {
          "output_type": "execute_result",
          "data": {
            "text/plain": [
              "[0.9523791382528858,\n",
              " 0.023507485999466643,\n",
              " 6.190712027124843e-05,\n",
              " 0.9523791382528858,\n",
              " 0.0026286715684407025]"
            ]
          },
          "metadata": {},
          "execution_count": 34
        }
      ],
      "source": [
        "temp_input"
      ]
    },
    {
      "cell_type": "code",
      "execution_count": null,
      "metadata": {
        "colab": {
          "base_uri": "https://localhost:8080/"
        },
        "id": "mpelqvZydTcF",
        "outputId": "ef2652e5-da31-4c27-cddd-e1dea21d2a93"
      },
      "outputs": [
        {
          "output_type": "stream",
          "name": "stdout",
          "text": [
            "[-0.10995652]\n",
            "6\n",
            "1 day input [ 2.35074860e-02  6.19071203e-05  9.52379138e-01  2.62867157e-03\n",
            " -1.09956518e-01]\n",
            "1 day output [[0.00908849]]\n",
            "2 day input [ 6.19071203e-05  9.52379138e-01  2.62867157e-03 -1.09956518e-01\n",
            "  9.08849016e-03]\n",
            "2 day output [[0.00673017]]\n",
            "3 day input [ 0.95237914  0.00262867 -0.10995652  0.00908849  0.00673017]\n",
            "3 day output [[0.01727366]]\n",
            "4 day input [ 0.00262867 -0.10995652  0.00908849  0.00673017  0.01727366]\n",
            "4 day output [[0.2024641]]\n",
            "5 day input [-0.10995652  0.00908849  0.00673017  0.01727366  0.2024641 ]\n",
            "5 day output [[0.1847873]]\n",
            "6 day input [0.00908849 0.00673017 0.01727366 0.2024641  0.1847873 ]\n",
            "6 day output [[0.13289729]]\n",
            "7 day input [0.00673017 0.01727366 0.2024641  0.1847873  0.13289729]\n",
            "7 day output [[0.10298044]]\n",
            "8 day input [0.01727366 0.2024641  0.1847873  0.13289729 0.10298044]\n",
            "8 day output [[0.07727774]]\n",
            "9 day input [0.2024641  0.1847873  0.13289729 0.10298044 0.07727774]\n",
            "9 day output [[0.06164503]]\n",
            "10 day input [0.1847873  0.13289729 0.10298044 0.07727774 0.06164503]\n",
            "10 day output [[0.08459787]]\n",
            "11 day input [0.13289729 0.10298044 0.07727774 0.06164503 0.08459787]\n",
            "11 day output [[0.10553622]]\n",
            "12 day input [0.10298044 0.07727774 0.06164503 0.08459787 0.10553622]\n",
            "12 day output [[0.11464465]]\n",
            "13 day input [0.07727774 0.06164503 0.08459787 0.10553622 0.11464465]\n",
            "13 day output [[0.11492705]]\n",
            "14 day input [0.06164503 0.08459787 0.10553622 0.11464465 0.11492705]\n",
            "14 day output [[0.10818218]]\n",
            "15 day input [0.08459787 0.10553622 0.11464465 0.11492705 0.10818218]\n",
            "15 day output [[0.09840953]]\n",
            "16 day input [0.10553622 0.11464465 0.11492705 0.10818218 0.09840953]\n",
            "16 day output [[0.09420796]]\n",
            "17 day input [0.11464465 0.11492705 0.10818218 0.09840953 0.09420796]\n",
            "17 day output [[0.09528638]]\n",
            "18 day input [0.11492705 0.10818218 0.09840953 0.09420796 0.09528638]\n",
            "18 day output [[0.09883982]]\n",
            "19 day input [0.10818218 0.09840953 0.09420796 0.09528638 0.09883982]\n",
            "19 day output [[0.10242803]]\n",
            "20 day input [0.09840953 0.09420796 0.09528638 0.09883982 0.10242803]\n",
            "20 day output [[0.10418945]]\n",
            "21 day input [0.09420796 0.09528638 0.09883982 0.10242803 0.10418945]\n",
            "21 day output [[0.10350645]]\n",
            "22 day input [0.09528638 0.09883982 0.10242803 0.10418945 0.10350645]\n",
            "22 day output [[0.10174308]]\n",
            "23 day input [0.09883982 0.10242803 0.10418945 0.10350645 0.10174308]\n",
            "23 day output [[0.10025202]]\n",
            "24 day input [0.10242803 0.10418945 0.10350645 0.10174308 0.10025202]\n",
            "24 day output [[0.09969309]]\n",
            "25 day input [0.10418945 0.10350645 0.10174308 0.10025202 0.09969309]\n",
            "25 day output [[0.1000592]]\n",
            "26 day input [0.10350645 0.10174308 0.10025202 0.09969309 0.1000592 ]\n",
            "26 day output [[0.10086183]]\n",
            "27 day input [0.10174308 0.10025202 0.09969309 0.1000592  0.10086183]\n",
            "27 day output [[0.10148855]]\n",
            "28 day input [0.10025202 0.09969309 0.1000592  0.10086183 0.10148855]\n",
            "28 day output [[0.10166185]]\n",
            "29 day input [0.09969309 0.1000592  0.10086183 0.10148855 0.10166185]\n",
            "29 day output [[0.10145047]]\n",
            "[[-0.1099565178155899], [0.009088490158319473], [0.006730174645781517], [0.017273657023906708], [0.20246410369873047], [0.1847873032093048], [0.132897287607193], [0.10298044234514236], [0.07727774232625961], [0.0616450309753418], [0.0845978707075119], [0.10553622245788574], [0.11464465409517288], [0.11492705345153809], [0.10818218439817429], [0.09840953350067139], [0.09420796483755112], [0.09528638422489166], [0.09883981943130493], [0.10242803394794464], [0.1041894480586052], [0.10350645333528519], [0.10174307972192764], [0.10025202482938766], [0.09969308972358704], [0.10005919635295868], [0.10086183249950409], [0.10148855298757553], [0.10166184604167938], [0.10145046561956406]]\n"
          ]
        }
      ],
      "source": [
        "# demonstrate prediction for next 10 days\n",
        "from numpy import array\n",
        "\n",
        "lst_output=[]\n",
        "n_steps=5\n",
        "i=0\n",
        "while(i<30):\n",
        "    \n",
        "    if(len(temp_input)>5):\n",
        "        #print(temp_input)\n",
        "        x_input=np.array(temp_input[1:])\n",
        "        print(\"{} day input {}\".format(i,x_input))\n",
        "        x_input=x_input.reshape(1,-1)\n",
        "        x_input = x_input.reshape((1, n_steps, 1))\n",
        "        #print(x_input)\n",
        "        yhat = model.predict(x_input, verbose=0)\n",
        "        print(\"{} day output {}\".format(i,yhat))\n",
        "        temp_input.extend(yhat[0].tolist())\n",
        "        temp_input=temp_input[1:]\n",
        "        #print(temp_input)\n",
        "        lst_output.extend(yhat.tolist())\n",
        "        i=i+1\n",
        "    else:\n",
        "        x_input = x_input.reshape((1, n_steps,1))\n",
        "        yhat = model.predict(x_input, verbose=0)\n",
        "        print(yhat[0])\n",
        "        temp_input.extend(yhat[0].tolist())\n",
        "        print(len(temp_input))\n",
        "        lst_output.extend(yhat.tolist())\n",
        "        i=i+1\n",
        "    \n",
        "\n",
        "print(lst_output)"
      ]
    },
    {
      "cell_type": "code",
      "execution_count": null,
      "metadata": {
        "id": "yinNh_51dTcF"
      },
      "outputs": [],
      "source": [
        "day_new=np.arange(1,22)\n",
        "day_pred=np.arange(22,52)"
      ]
    },
    {
      "cell_type": "code",
      "execution_count": null,
      "metadata": {
        "id": "i_c9YKIwdTcG"
      },
      "outputs": [],
      "source": [
        "import matplotlib.pyplot as plt"
      ]
    },
    {
      "cell_type": "code",
      "execution_count": null,
      "metadata": {
        "colab": {
          "base_uri": "https://localhost:8080/",
          "height": 282
        },
        "id": "TWJw9ZZddTcG",
        "outputId": "a071f63f-de00-4594-8df1-d4152fe7d9aa"
      },
      "outputs": [
        {
          "output_type": "execute_result",
          "data": {
            "text/plain": [
              "[<matplotlib.lines.Line2D at 0x7f49f4c40c50>]"
            ]
          },
          "metadata": {},
          "execution_count": 39
        },
        {
          "output_type": "display_data",
          "data": {
            "image/png": "[encoded data removed]",
            "text/plain": [
              "<Figure size 432x288 with 1 Axes>"
            ]
          },
          "metadata": {
            "needs_background": "light"
          }
        }
      ],
      "source": [
        "plt.plot(day_new,scaler.inverse_transform(df1[4:]))\n",
        "plt.plot(day_pred,scaler.inverse_transform(lst_output))"
      ]
    },
    {
      "cell_type": "code",
      "execution_count": null,
      "metadata": {
        "colab": {
          "base_uri": "https://localhost:8080/",
          "height": 282
        },
        "id": "Yv2kBYIAdTcG",
        "outputId": "920c0652-a436-4112-f431-7afa8adab153"
      },
      "outputs": [
        {
          "output_type": "execute_result",
          "data": {
            "text/plain": [
              "[<matplotlib.lines.Line2D at 0x7f49f4bb3a50>]"
            ]
          },
          "metadata": {},
          "execution_count": 40
        },
        {
          "output_type": "display_data",
          "data": {
            "image/png": "[encoded data removed]",
            "text/plain": [
              "<Figure size 432x288 with 1 Axes>"
            ]
          },
          "metadata": {
            "needs_background": "light"
          }
        }
      ],
      "source": [
        "df3=df1.tolist()\n",
        "df3.extend(lst_output)\n",
        "plt.plot(df3)"
      ]
    }
  ],
  "metadata": {
    "kernelspec": {
      "display_name": "Python 3",
      "language": "python",
      "name": "python3"
    },
    "language_info": {
      "codemirror_mode": {
        "name": "ipython",
        "version": 3
      },
      "file_extension": ".py",
      "mimetype": "text/x-python",
      "name": "python",
      "nbconvert_exporter": "python",
      "pygments_lexer": "ipython3",
      "version": "3.6.9"
    },
    "colab": {
      "name": "lstm_based_prediction.ipynb",
      "provenance": []
    }
  },
  "nbformat": 4,
  "nbformat_minor": 0
}